{
 "cells": [
  {
   "cell_type": "code",
   "execution_count": 16,
   "id": "31136a10",
   "metadata": {},
   "outputs": [],
   "source": [
    "from langgraph.graph import StateGraph ,START,END\n",
    "from langchain_google_genai import ChatGoogleGenerativeAI\n",
    "from typing import TypedDict ,Literal\n",
    "from dotenv import load_dotenv\n",
    "from pydantic import BaseModel ,Field\n",
    "import os\n"
   ]
  },
  {
   "cell_type": "code",
   "execution_count": 17,
   "id": "b60d5145",
   "metadata": {},
   "outputs": [
    {
     "data": {
      "text/plain": [
       "True"
      ]
     },
     "execution_count": 17,
     "metadata": {},
     "output_type": "execute_result"
    }
   ],
   "source": [
    "load_dotenv()"
   ]
  },
  {
   "cell_type": "code",
   "execution_count": 18,
   "id": "48a24fcd",
   "metadata": {},
   "outputs": [],
   "source": [
    "api_key = os.getenv(\"GOOGLE_API_KEY\")"
   ]
  },
  {
   "cell_type": "code",
   "execution_count": 19,
   "id": "f1474342",
   "metadata": {},
   "outputs": [],
   "source": [
    "llm = ChatGoogleGenerativeAI(\n",
    "    model=\"gemini-1.5-flash\",\n",
    "    google_api_key=api_key   # ✅ use google_api_key, not api_key\n",
    ")"
   ]
  },
  {
   "cell_type": "code",
   "execution_count": 71,
   "id": "ee6e122c",
   "metadata": {},
   "outputs": [],
   "source": [
    "class SentimentScema(BaseModel):\n",
    "    sentiment:Literal[\"Positive\",\"Negative\"]= Field(description=\"sentiment of the review \")\n",
    "\n",
    "class DiagnosisSchema(BaseModel):\n",
    "    issue_type: Literal[\"UX\", \"Performance\", \"Bug\", \"Support\", \"Other\"] = Field(description='The category of issue mentioned in the review')\n",
    "    tone: Literal[\"angry\", \"frustrated\", \"disappointed\", \"calm\"] = Field(description='The emotional tone expressed by the user')\n",
    "    urgency: Literal[\"low\", \"medium\", \"high\"] = Field(description='How urgent or critical the issue appears to be')    "
   ]
  },
  {
   "cell_type": "code",
   "execution_count": 72,
   "id": "fc39d2cd",
   "metadata": {},
   "outputs": [
    {
     "data": {
      "text/plain": [
       "DiagnosisSchema(issue_type='UX', tone='angry', urgency='high')"
      ]
     },
     "execution_count": 72,
     "metadata": {},
     "output_type": "execute_result"
    }
   ],
   "source": [
    "prompt =\"this is very bad product also its ui and performance it stucks \"\n",
    "\n",
    "structured_model=llm.with_structured_output(SentimentScema)\n",
    "structured_model2=llm.with_structured_output(DiagnosisSchema)\n",
    "structured_model2.invoke(prompt)\n"
   ]
  },
  {
   "cell_type": "code",
   "execution_count": 73,
   "id": "6e6d92a1",
   "metadata": {},
   "outputs": [],
   "source": [
    "class Reviewstate(TypedDict):\n",
    "    review:str\n",
    "    sentiment:str\n",
    "    diagnose:dict\n",
    "    response:str"
   ]
  },
  {
   "cell_type": "code",
   "execution_count": 94,
   "id": "46460a76",
   "metadata": {},
   "outputs": [],
   "source": [
    "def find_sentiment(state:Reviewstate):\n",
    "    prompt=f'find sentiment ofthe following review \\n {state[\"review\"]}'\n",
    "\n",
    "    sentiment=structured_model.invoke(prompt).sentiment\n",
    "\n",
    "    return{\"sentiment\":sentiment}\n",
    "\n",
    "def check_sentiment(state:Reviewstate) -> Literal[\"positve_response\",\"run_diagnose\"]:\n",
    "    if state['sentiment']=='positive':\n",
    "        return \"positve_response\"\n",
    "    else:\n",
    "        return \"run_diagnose\"\n",
    "    \n",
    "def positve_response (state:Reviewstate):\n",
    "\n",
    "    prompt=f\"\"\"write a warm thankful message forh this review \\n \n",
    "    {state['review']}\"\"\"\n",
    "    response=llm.invoke(prompt).content\n",
    "\n",
    "    return {'response':response}\n",
    "\n",
    "def run_diagnose(state:Reviewstate):\n",
    "    prompt = f\"\"\"Diagnose this negative review:\\n\\n{state['review']}\\n\"\n",
    "    \"Return issue_type, tone, and urgency.\n",
    "\"\"\"  \n",
    "    response=structured_model2.invoke(prompt)\n",
    "\n",
    "    \n",
    "    return {'diagnose': response.model_dump()}\n",
    "  \n",
    "def negative_response (state:Reviewstate):\n",
    "    diagnosis = state['diagnose']\n",
    "\n",
    "    prompt = f\"\"\"You are a support assistant.\n",
    "The user had a '{diagnosis['issue_type']}' issue, sounded '{diagnosis['tone']}', and marked urgency as '{diagnosis['urgency']}'.\n",
    "Write an empathetic, helpful resolution message.\n",
    "\"\"\"\n",
    "    response = llm.invoke(prompt).content\n",
    "\n",
    "    return {'response': response}\n"
   ]
  },
  {
   "cell_type": "code",
   "execution_count": 95,
   "id": "649e3692",
   "metadata": {},
   "outputs": [],
   "source": [
    "graph=StateGraph(Reviewstate)\n",
    "\n",
    "graph.add_node(\"find_sentiment\",find_sentiment)\n",
    "graph.add_node (\"run_diagnose\",run_diagnose)\n",
    "graph.add_node (\"negative_response\",negative_response)\n",
    "graph.add_node (\"positve_response\",positve_response)\n",
    "\n",
    "\n",
    "graph.add_edge(START,\"find_sentiment\")\n",
    "graph.add_conditional_edges(\"find_sentiment\",check_sentiment)\n",
    "graph.add_edge(\"positve_response\" ,END)\n",
    "graph.add_edge(\"run_diagnose\",\"negative_response\")\n",
    "graph.add_edge(\"negative_response\",END)\n",
    "\n",
    "workflow=graph.compile()\n",
    "\n",
    "\n"
   ]
  },
  {
   "cell_type": "code",
   "execution_count": null,
   "id": "e5588833",
   "metadata": {},
   "outputs": [],
   "source": [
    "workflow"
   ]
  },
  {
   "cell_type": "code",
   "execution_count": 96,
   "id": "026367e8",
   "metadata": {},
   "outputs": [
    {
     "data": {
      "text/plain": [
       "{'review': 'I’ve been trying to log in for over an hour now, and the app keeps freezing on the authentication screen. I even tried reinstalling it, but no luck. This kind of bug is unacceptable, especially when it affects basic functionality.',\n",
       " 'sentiment': 'Negative',\n",
       " 'diagnose': {'issue_type': 'Bug', 'tone': 'frustrated', 'urgency': 'high'},\n",
       " 'response': \"Subject: Re: Urgent - Bug Report - [Original Subject Line]\\n\\nHi [User Name],\\n\\nI'm so sorry to hear you're experiencing this issue and that it's causing you frustration.  I understand how urgent this is, and I want to assure you I'll do everything I can to help resolve it as quickly as possible.\\n\\nCould you please provide me with a little more information?  Specifically, it would be helpful if you could tell me:\\n\\n* **What steps were you taking when the bug occurred?**  A detailed description of your actions leading up to the issue will help me reproduce it.\\n* **What exactly happened?**  Please describe the bug as clearly as possible.  Screenshots or screen recordings would be incredibly helpful if you're able to provide them.\\n* **What version of [Software/Application Name] are you using?**  This will help me identify if it's a known issue or something more specific to your setup.\\n* **What operating system are you using?** (e.g., Windows 10, macOS Monterey, iOS 16)\\n\\nOnce I have this information, I can start investigating the problem.  I'll keep you updated on my progress and will get back to you within [Timeframe, e.g., the next hour/by end of day].\\n\\nThank you for your patience and understanding.\\n\\nSincerely,\\n\\n[Your Name]\\nSupport Assistant\"}"
      ]
     },
     "execution_count": 96,
     "metadata": {},
     "output_type": "execute_result"
    }
   ],
   "source": [
    "intial_state={\n",
    "    'review': \"I’ve been trying to log in for over an hour now, and the app keeps freezing on the authentication screen. I even tried reinstalling it, but no luck. This kind of bug is unacceptable, especially when it affects basic functionality.\"\n",
    "}\n",
    "workflow.invoke(intial_state)"
   ]
  }
 ],
 "metadata": {
  "kernelspec": {
   "display_name": "myenv",
   "language": "python",
   "name": "python3"
  },
  "language_info": {
   "codemirror_mode": {
    "name": "ipython",
    "version": 3
   },
   "file_extension": ".py",
   "mimetype": "text/x-python",
   "name": "python",
   "nbconvert_exporter": "python",
   "pygments_lexer": "ipython3",
   "version": "3.13.5"
  }
 },
 "nbformat": 4,
 "nbformat_minor": 5
}
